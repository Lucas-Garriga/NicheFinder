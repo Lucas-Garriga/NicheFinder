{
 "cells": [
  {
   "cell_type": "code",
   "execution_count": 6,
   "id": "aa853d5e",
   "metadata": {},
   "outputs": [
    {
     "name": "stdout",
     "output_type": "stream",
     "text": [
      "📌 Lancement de scraper.py\n",
      "Scraping page 1\n",
      "Scraping page 2\n",
      "Scraping page 3\n",
      "Scraping page 4\n",
      "Scraping page 5\n",
      "Scraping page 6\n",
      "Scraping page 7\n",
      "Scraping page 8\n",
      "Scraping page 9\n",
      "Scraping page 10\n",
      "Scraping page 11\n",
      "Scraping page 12\n",
      "Scraping page 13\n",
      "Scraping page 14\n",
      "Scraping page 15\n",
      "Scraping page 16\n",
      "Scraping page 17\n",
      "Scraping page 18\n",
      "Scraping page 19\n",
      "Scraping page 20\n"
     ]
    },
    {
     "name": "stderr",
     "output_type": "stream",
     "text": [
      "Traceback (most recent call last):\n",
      "  File \"/Users/samiraedoube/Downloads/CV/Data/NicheFinder/NicheFinder/notebooks/../scraper/scraper.py\", line 116, in <module>\n",
      "    dfv38.to_csv(\"data/amazon_objets_connectes_v38.csv\", index=False)\n",
      "  File \"/Users/samiraedoube/Downloads/CV/Data/NicheFinder/NicheFinder/.venv/lib/python3.12/site-packages/pandas/util/_decorators.py\", line 333, in wrapper\n",
      "    return func(*args, **kwargs)\n",
      "           ^^^^^^^^^^^^^^^^^^^^^\n",
      "  File \"/Users/samiraedoube/Downloads/CV/Data/NicheFinder/NicheFinder/.venv/lib/python3.12/site-packages/pandas/core/generic.py\", line 3986, in to_csv\n",
      "    return DataFrameRenderer(formatter).to_csv(\n",
      "           ^^^^^^^^^^^^^^^^^^^^^^^^^^^^^^^^^^^^\n",
      "  File \"/Users/samiraedoube/Downloads/CV/Data/NicheFinder/NicheFinder/.venv/lib/python3.12/site-packages/pandas/io/formats/format.py\", line 1014, in to_csv\n",
      "    csv_formatter.save()\n",
      "  File \"/Users/samiraedoube/Downloads/CV/Data/NicheFinder/NicheFinder/.venv/lib/python3.12/site-packages/pandas/io/formats/csvs.py\", line 251, in save\n",
      "    with get_handle(\n",
      "         ^^^^^^^^^^^\n",
      "  File \"/Users/samiraedoube/Downloads/CV/Data/NicheFinder/NicheFinder/.venv/lib/python3.12/site-packages/pandas/io/common.py\", line 749, in get_handle\n",
      "    check_parent_directory(str(handle))\n",
      "  File \"/Users/samiraedoube/Downloads/CV/Data/NicheFinder/NicheFinder/.venv/lib/python3.12/site-packages/pandas/io/common.py\", line 616, in check_parent_directory\n",
      "    raise OSError(rf\"Cannot save file into a non-existent directory: '{parent}'\")\n",
      "OSError: Cannot save file into a non-existent directory: 'data'\n"
     ]
    },
    {
     "name": "stdout",
     "output_type": "stream",
     "text": [
      "⚠️ Erreur lors du scraping, on passe à l'étape suivante.\n",
      "📌 Lancement de clean_data.py\n",
      "📌 Nettoyage du fichier amazon_objets_connectes_v38.csv\n",
      "✅ Nettoyage terminé, fichier df_clean_2.csv sauvegardé.\n",
      "📌 Lecture de data/df_clean_2.csv\n",
      "📌 Stockage dans SQLite...\n",
      "✅ Pipeline ETL exécuté avec succès.\n"
     ]
    }
   ],
   "source": [
    "import subprocess\n",
    "import pandas as pd\n",
    "import sqlite3\n",
    "\n",
    "print(\"📌 Lancement de scraper.py\")\n",
    "\n",
    "try:\n",
    "    subprocess.run([\"python3\", \"../scraper/scraper.py\"], check=True)\n",
    "except KeyboardInterrupt:\n",
    "    print(\"⚠️ Scraping interrompu manuellement.\")\n",
    "except subprocess.CalledProcessError:\n",
    "    print(\"⚠️ Erreur lors du scraping, on passe à l'étape suivante.\")\n",
    "\n",
    "print(\"📌 Lancement de clean_data.py\")\n",
    "subprocess.run([\"python3\", \"../scraper/clean_data.py\"], check=True)\n",
    "\n",
    "print(\"📌 Lecture de data/df_clean_2.csv\")\n",
    "df = pd.read_csv(\"../data/df_clean_2.csv\")\n",
    "\n",
    "print(\"📌 Stockage dans SQLite...\")\n",
    "conn = sqlite3.connect(\"../data/amazon.db\")\n",
    "df.to_sql(\"products\", conn, if_exists=\"replace\", index=False)\n",
    "conn.close()\n",
    "\n",
    "print(\"✅ Pipeline ETL exécuté avec succès.\")"
   ]
  }
 ],
 "metadata": {
  "kernelspec": {
   "display_name": ".venv",
   "language": "python",
   "name": "python3"
  },
  "language_info": {
   "codemirror_mode": {
    "name": "ipython",
    "version": 3
   },
   "file_extension": ".py",
   "mimetype": "text/x-python",
   "name": "python",
   "nbconvert_exporter": "python",
   "pygments_lexer": "ipython3",
   "version": "3.12.10"
  }
 },
 "nbformat": 4,
 "nbformat_minor": 5
}
